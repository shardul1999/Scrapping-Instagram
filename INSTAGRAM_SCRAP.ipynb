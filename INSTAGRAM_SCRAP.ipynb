{
 "cells": [
  {
   "cell_type": "code",
   "execution_count": 4,
   "metadata": {},
   "outputs": [
    {
     "name": "stdout",
     "output_type": "stream",
     "text": [
      "200\n",
      "USERNAME: selenagomez\n",
      "By grace, through faith. \\nMy new album RARE is out now \\ud83d\\udc96\\nFounder @rarebeauty\n",
      "Number of Scripts used: 16\n",
      "Followers:  177041236\n",
      "People you Follow: 117\n",
      "Number of Posts: 1609\n",
      "Number of Scripts used: 16\n",
      "USER COUNTRY: IN\n",
      "https://instagram.fdel12-1.fna.fbcdn.net/v/t51.2885-19/s320x320/80812750_2461415647505687_1090722136118525952_n.jpg?_nc_ht=instagram.fdel12-1.fna.fbcdn.net&_nc_ohc=Z7aG3TJGdzkAX8_A3d2&oh=926d3b40c8de1d5e568d41bea5e8eaa3&oe=5EEB7354\n",
      "200\n",
      "USERNAME: shardulsinghtomar\n",
      "\\u0939\\u0902\\u0938\\u092e\\u0941\\u0916\n",
      "Number of Scripts used: 15\n",
      "Followers:  659\n",
      "People you Follow: 581\n",
      "Number of Posts: 52\n",
      "Number of Scripts used: 15\n",
      "USER COUNTRY: IN\n",
      "https://instagram.fdel12-1.fna.fbcdn.net/v/t51.2885-19/s320x320/97136363_286007809232082_7941110370972729344_n.jpg?_nc_ht=instagram.fdel12-1.fna.fbcdn.net&_nc_ohc=A7OCiPd5vBkAX-fzg3h&oh=c1ec3cbc13bb67758c47e6afbdb2fae9&oe=5EEB0FF1\n",
      "200\n",
      "USERNAME: ashwin.rai11\n",
      "Gone Fishing \\ud83c\\udfa3\\nAlso, Subscribe to this channel please \\ud83d\\ude4f\n",
      "Number of Scripts used: 16\n",
      "Followers:  274\n",
      "People you Follow: 385\n",
      "Number of Posts: 23\n",
      "Number of Scripts used: 16\n",
      "USER COUNTRY: IN\n",
      "https://instagram.fdel12-1.fna.fbcdn.net/v/t51.2885-19/s320x320/72290794_1051385925204486_2718387923803176960_n.jpg?_nc_ht=instagram.fdel12-1.fna.fbcdn.net&_nc_ohc=Nl7bDsv2WnEAX8Qcx23&oh=b87b224376d0708fdc86e9a2754ab129&oe=5EEC303C\n",
      "200\n",
      "USERNAME: yash___tyagi\n",
      "Path?\\nNope \\nDestination \\ud83d\\ude4c\n",
      "Number of Scripts used: 16\n",
      "Followers:  593\n",
      "People you Follow: 459\n",
      "Number of Posts: 31\n",
      "Number of Scripts used: 16\n",
      "USER COUNTRY: IN\n",
      "https://instagram.fdel12-1.fna.fbcdn.net/v/t51.2885-19/s320x320/91058800_249096069463056_1409107709583687680_n.jpg?_nc_ht=instagram.fdel12-1.fna.fbcdn.net&_nc_ohc=QQHf0Sgw03YAX8QCnvd&oh=884a4e35c0fc37769615d52fcb58d17d&oe=5EEA75BF\n",
      "200\n",
      "USERNAME: shivnadaruniv\n",
      "Shiv Nadar University is one of the leading universities in India. We are devoted to excellence in teaching, learning who make a difference globally.\n",
      "Number of Scripts used: 16\n",
      "Followers:  3968\n",
      "People you Follow: 44\n",
      "Number of Posts: 1108\n",
      "Number of Scripts used: 16\n",
      "USER COUNTRY: IN\n",
      "https://instagram.fdel12-1.fna.fbcdn.net/v/t51.2885-19/s320x320/14564932_537981933067386_8257608409390514176_a.jpg?_nc_ht=instagram.fdel12-1.fna.fbcdn.net&_nc_ohc=gIeKV_YoqUcAX9HUTEN&oh=929a1e6c924d0e47a76c5103d3a81ed1&oe=5EEBE2FB\n",
      "200\n",
      "USERNAME: pranjal2607\n",
      "Delhi \\nGreat minds are always feared by lesser minds.\\nAll the world's a stage.\n",
      "Number of Scripts used: 15\n",
      "Followers:  116\n",
      "People you Follow: 103\n",
      "Number of Posts: 7\n",
      "Number of Scripts used: 15\n",
      "USER COUNTRY: IN\n",
      "https://instagram.fdel12-1.fna.fbcdn.net/v/t51.2885-19/s320x320/36991271_294832844410339_5866123507481444352_n.jpg?_nc_ht=instagram.fdel12-1.fna.fbcdn.net&_nc_ohc=rP3_XZ-scowAX92xN2s&oh=e0b61de95e99229bab9ca6b361514769&oe=5EEDC4D0\n",
      "200\n",
      "USERNAME: ecskrabacz10\n",
      "NCHS \\u201820 | Theatre Central | UIUC \\u201824 \\ud83d\\udd36\\ud83d\\udd37\n",
      "Number of Scripts used: 16\n",
      "Followers:  882\n",
      "People you Follow: 869\n",
      "Number of Posts: 21\n",
      "Number of Scripts used: 16\n",
      "USER COUNTRY: IN\n",
      "https://instagram.fdel12-1.fna.fbcdn.net/v/t51.2885-19/s320x320/30926332_2094330564182553_714886384317366272_n.jpg?_nc_ht=instagram.fdel12-1.fna.fbcdn.net&_nc_ohc=4pStFRcdOrMAX9_EcgM&oh=23d1dde9ea8ef4791d71f3d4c4d398bf&oe=5EEBD083\n",
      "200\n",
      "USERNAME: shivanshssgupta\n",
      "YOU MISS 100% OF THE SHOTS YOU DON\\u2019T TAKE.\\nSNU '22\\n4/5/2001\n",
      "Number of Scripts used: 15\n",
      "Followers:  252\n",
      "People you Follow: 206\n",
      "Number of Posts: 11\n",
      "Number of Scripts used: 15\n",
      "USER COUNTRY: IN\n",
      "https://instagram.fdel12-1.fna.fbcdn.net/v/t51.2885-19/s320x320/84357582_881454635630706_7180815354724089856_n.jpg?_nc_ht=instagram.fdel12-1.fna.fbcdn.net&_nc_ohc=AC1QByMM-kwAX-r_JcR&oh=752ccb2057e2739a4ae902bf2930d048&oe=5EEB7668\n",
      "200\n",
      "USERNAME: na_coool\n",
      "\n",
      "Number of Scripts used: 16\n",
      "Followers:  256\n",
      "People you Follow: 297\n",
      "Number of Posts: 6\n",
      "Number of Scripts used: 16\n",
      "USER COUNTRY: IN\n",
      "https://instagram.fdel12-1.fna.fbcdn.net/v/t51.2885-19/s320x320/64861450_394195191198393_8436764448928038912_n.jpg?_nc_ht=instagram.fdel12-1.fna.fbcdn.net&_nc_ohc=Q_KfioUQH-gAX_p5zwg&oh=f752ff260be8a155993a1f146e375d71&oe=5EEDA68A\n"
     ]
    }
   ],
   "source": [
    "import requests\n",
    "from bs4 import BeautifulSoup\n",
    "import re\n",
    "\n",
    "ig_url='https://www.instagram.com'\n",
    "users=['selenagomez','shardulsinghtomar','ashwin.rai11','yash___tyagi',\n",
    "       'shivnadaruniv','pranjal2607','ecskrabacz10','shivanshssgupta','na_coool']\n",
    "\n",
    "for profile_url in users:\n",
    "    response=requests.get(f\"{ig_url}/{profile_url}\")\n",
    "    print(response.status_code)\n",
    "    if response.ok:\n",
    "        html=response.text\n",
    "        bs_html=BeautifulSoup(html)\n",
    "        #print(response.text)\n",
    "        scripts=bs_html.select('script')\n",
    "    #PEOPLE WHO HAVE ABOVE 1000 followers instgram makes them one extra script()\n",
    "        if len(scripts)==15:\n",
    "            x=scripts[3].text.strip()\n",
    "        else:\n",
    "            x=scripts[4].text.strip()\n",
    "\n",
    "        print(\"USERNAME: \"+profile_url)\n",
    "    #    print(x)\n",
    "#        profile_picture_url_start=x.find('\"profile_pic_url_hd\":\"')#('\"profile_pic_url\":\"')\n",
    "#        profile_picture_url_start=profile_picture_url_start+len('\"profile_pic_url_hd\":\"')\n",
    "#        profile_picture_url_end=x.find('\",\"requested_by_viewer')#('\",\"profile_pic_url_hd\"')\n",
    "#        print(x[profile_picture_url_start:profile_picture_url_end].replace(r\"\\u0026\",'&'))\n",
    "#-----------------------------BIO OF PEOPLE -----------------------------------------------------\n",
    "        b=x.find('\"description\":')\n",
    "        b1=x.find('\"biography\":\"')\n",
    "        b=b+len('\"description\":')+1\n",
    "        b1=b1+len('\"biography\":\"')\n",
    "        url_index=x.find('url')-3\n",
    "        url_index2=x.find('mainEntityofP')-3\n",
    "        if url_index > url_index2:\n",
    "            tempo=url_index\n",
    "        else:\n",
    "            tempo=url_index2\n",
    "        url_index1=x.find('blocked_by_viewer')-3\n",
    "        if re.search('\"biography\":\"',x[b:url_index]):\n",
    "            print(x[b1:url_index1])\n",
    "        else:\n",
    "            #url_index=x.find('')-3\n",
    "            print(x[b:tempo])\n",
    "            \n",
    "#---------------------------NUMBER OF SCRIPTS USED-------------------------------------------------\n",
    "\n",
    "        print(\"Number of Scripts used: \"+str(len(scripts)))\n",
    "        #print(scripts[4].text.strip())\n",
    "        \n",
    "#------------------------------------------NUMBER OF FOLLOWERS-------------------------------------\n",
    "\n",
    "        y=x.find('edge_followed_by\":{\"count')\n",
    "        y=y+len('\"edge_followed_by\":{\"count\"')\n",
    "        followers_str=x[y:y+10]\n",
    "    #    print(followers_str)\n",
    "        followers=re.findall('[0-9]+',followers_str)[0]\n",
    "        print(\"Followers: \",end=\" \")\n",
    "        print(followers)\n",
    "        \n",
    "#--------------------------------------------FOLLOWING NUMBER-------------------------------------\n",
    "\n",
    "        r=x.find('\"edge_follow\":{\"count\":')\n",
    "        r=r+len('\"edge_follow\":{\"count\":')\n",
    "        following_str=x[r:r+5]\n",
    "        following=re.findall('[0-9]+',following_str)[0]\n",
    "        print(\"People you Follow:\",end=\" \")\n",
    "        print(following)\n",
    "    #    p=re.findall('\"edge_owner_to_timeline_media\":{\"count\":',x)\n",
    "    \n",
    "#--------------------------------------NUMBER OF POSTS--------------------------------------------\n",
    "\n",
    "        po=x.find('\"edge_owner_to_timeline_media\":{\"count\":')\n",
    "        po=po+len('\"edge_owner_to_timeline_media\":{\"count\":')\n",
    "        posts=x[po:po+5]\n",
    "        post=re.findall('[0-9]+',posts)[0]\n",
    "        print(\"Number of Posts: \"+post)\n",
    "    #    print(x)\n",
    "    #    co=re.findall('\"edge_owner_to_timeline_media\":{\"count\":',x)\n",
    "    \n",
    "#-------------------------------------------------------------------------------------------------\n",
    "\n",
    "        co=x.find('\"country_code\":\"')\n",
    "        co=co+len('\"country_code\":\"')\n",
    "        country_str=x[co:co+5]\n",
    "        country=re.findall('[A-Z]+',country_str)[0]\n",
    "        print(\"Number of Scripts used: \"+str(len(scripts)))\n",
    "        print(\"USER COUNTRY: \"+country)\n",
    "        #break\n",
    "        \n",
    "#---------------------------------------PROFILE PICTURE OF USERS-----------------------------------\n",
    "\n",
    "        profile_picture_url_start=x.find('\"profile_pic_url_hd\":\"')#('\"profile_pic_url\":\"')\n",
    "        profile_picture_url_start=profile_picture_url_start+len('\"profile_pic_url_hd\":\"')\n",
    "        profile_picture_url_end=x.find('\",\"requested_by_viewer')#('\",\"profile_pic_url_hd\"')\n",
    "        print(x[profile_picture_url_start:profile_picture_url_end].replace(r\"\\u0026\",'&'))\n",
    "        \n",
    "#--------------------------------------------------------------------------------------------------"
   ]
  },
  {
   "cell_type": "code",
   "execution_count": null,
   "metadata": {},
   "outputs": [],
   "source": []
  },
  {
   "cell_type": "code",
   "execution_count": null,
   "metadata": {},
   "outputs": [],
   "source": []
  },
  {
   "cell_type": "code",
   "execution_count": null,
   "metadata": {},
   "outputs": [],
   "source": []
  },
  {
   "cell_type": "code",
   "execution_count": null,
   "metadata": {},
   "outputs": [],
   "source": []
  },
  {
   "cell_type": "code",
   "execution_count": null,
   "metadata": {},
   "outputs": [],
   "source": []
  },
  {
   "cell_type": "code",
   "execution_count": null,
   "metadata": {},
   "outputs": [],
   "source": []
  },
  {
   "cell_type": "code",
   "execution_count": null,
   "metadata": {},
   "outputs": [],
   "source": []
  },
  {
   "cell_type": "code",
   "execution_count": null,
   "metadata": {},
   "outputs": [],
   "source": []
  },
  {
   "cell_type": "code",
   "execution_count": null,
   "metadata": {},
   "outputs": [],
   "source": []
  },
  {
   "cell_type": "code",
   "execution_count": null,
   "metadata": {},
   "outputs": [],
   "source": []
  },
  {
   "cell_type": "code",
   "execution_count": null,
   "metadata": {},
   "outputs": [],
   "source": []
  },
  {
   "cell_type": "code",
   "execution_count": null,
   "metadata": {},
   "outputs": [],
   "source": []
  },
  {
   "cell_type": "code",
   "execution_count": null,
   "metadata": {},
   "outputs": [],
   "source": []
  },
  {
   "cell_type": "code",
   "execution_count": null,
   "metadata": {},
   "outputs": [],
   "source": []
  },
  {
   "cell_type": "code",
   "execution_count": null,
   "metadata": {},
   "outputs": [],
   "source": []
  },
  {
   "cell_type": "code",
   "execution_count": null,
   "metadata": {},
   "outputs": [],
   "source": []
  },
  {
   "cell_type": "code",
   "execution_count": null,
   "metadata": {},
   "outputs": [],
   "source": []
  },
  {
   "cell_type": "code",
   "execution_count": null,
   "metadata": {},
   "outputs": [],
   "source": []
  },
  {
   "cell_type": "code",
   "execution_count": null,
   "metadata": {},
   "outputs": [],
   "source": []
  },
  {
   "cell_type": "code",
   "execution_count": null,
   "metadata": {},
   "outputs": [],
   "source": []
  },
  {
   "cell_type": "code",
   "execution_count": null,
   "metadata": {},
   "outputs": [],
   "source": []
  },
  {
   "cell_type": "code",
   "execution_count": null,
   "metadata": {},
   "outputs": [],
   "source": []
  },
  {
   "cell_type": "code",
   "execution_count": null,
   "metadata": {},
   "outputs": [],
   "source": []
  },
  {
   "cell_type": "code",
   "execution_count": null,
   "metadata": {},
   "outputs": [],
   "source": []
  },
  {
   "cell_type": "code",
   "execution_count": null,
   "metadata": {},
   "outputs": [],
   "source": []
  },
  {
   "cell_type": "code",
   "execution_count": null,
   "metadata": {},
   "outputs": [],
   "source": []
  },
  {
   "cell_type": "code",
   "execution_count": null,
   "metadata": {},
   "outputs": [],
   "source": []
  },
  {
   "cell_type": "code",
   "execution_count": null,
   "metadata": {},
   "outputs": [],
   "source": []
  },
  {
   "cell_type": "code",
   "execution_count": null,
   "metadata": {},
   "outputs": [],
   "source": []
  },
  {
   "cell_type": "code",
   "execution_count": null,
   "metadata": {},
   "outputs": [],
   "source": []
  },
  {
   "cell_type": "code",
   "execution_count": null,
   "metadata": {},
   "outputs": [],
   "source": []
  },
  {
   "cell_type": "code",
   "execution_count": null,
   "metadata": {},
   "outputs": [],
   "source": []
  },
  {
   "cell_type": "code",
   "execution_count": null,
   "metadata": {},
   "outputs": [],
   "source": []
  },
  {
   "cell_type": "code",
   "execution_count": null,
   "metadata": {},
   "outputs": [],
   "source": []
  },
  {
   "cell_type": "code",
   "execution_count": null,
   "metadata": {},
   "outputs": [],
   "source": []
  },
  {
   "cell_type": "code",
   "execution_count": null,
   "metadata": {},
   "outputs": [],
   "source": []
  },
  {
   "cell_type": "code",
   "execution_count": null,
   "metadata": {},
   "outputs": [],
   "source": []
  },
  {
   "cell_type": "code",
   "execution_count": null,
   "metadata": {},
   "outputs": [],
   "source": []
  },
  {
   "cell_type": "code",
   "execution_count": null,
   "metadata": {},
   "outputs": [],
   "source": []
  },
  {
   "cell_type": "code",
   "execution_count": null,
   "metadata": {},
   "outputs": [],
   "source": []
  },
  {
   "cell_type": "code",
   "execution_count": null,
   "metadata": {},
   "outputs": [],
   "source": []
  }
 ],
 "metadata": {
  "kernelspec": {
   "display_name": "Python 3",
   "language": "python",
   "name": "python3"
  },
  "language_info": {
   "codemirror_mode": {
    "name": "ipython",
    "version": 3
   },
   "file_extension": ".py",
   "mimetype": "text/x-python",
   "name": "python",
   "nbconvert_exporter": "python",
   "pygments_lexer": "ipython3",
   "version": "3.7.6"
  }
 },
 "nbformat": 4,
 "nbformat_minor": 2
}
